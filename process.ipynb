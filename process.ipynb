{
 "cells": [
  {
   "cell_type": "code",
   "id": "initial_id",
   "metadata": {
    "collapsed": true,
    "ExecuteTime": {
     "end_time": "2025-04-04T09:12:33.634461Z",
     "start_time": "2025-04-04T09:12:33.155704Z"
    }
   },
   "source": "import pandas as pd",
   "outputs": [],
   "execution_count": 1
  },
  {
   "metadata": {},
   "cell_type": "markdown",
   "source": "### Volume Trend Line Chart (Dashboard 1)",
   "id": "494ac794e9152466"
  },
  {
   "metadata": {
    "ExecuteTime": {
     "end_time": "2025-04-04T09:19:07.708751Z",
     "start_time": "2025-04-04T09:18:58.377163Z"
    }
   },
   "cell_type": "code",
   "source": [
    "import pandas as pd\n",
    "from datetime import datetime, timedelta\n",
    "\n",
    "def generate_volume_trend(view=\"24h\"):\n",
    "    # Load CSVs\n",
    "    solver_df = pd.read_csv(\"data/solver_competitions.csv\")\n",
    "    tx_df = pd.read_csv(\"data/transaction.csv\")\n",
    "\n",
    "    # Merge on auctionId\n",
    "    merged = pd.merge(solver_df, tx_df, on=\"auctionId\", how=\"inner\")\n",
    "\n",
    "    # Compute volume\n",
    "    merged[\"volume\"] = merged[[\"buyAmountInUSD\", \"sellAmountInUSD\"]].min(axis=1)\n",
    "    merged[\"timestamp\"] = pd.to_datetime(merged[\"timestamp\"])\n",
    "\n",
    "    # Filter by time range\n",
    "    now = merged[\"timestamp\"].max()  # Use latest timestamp in data\n",
    "    if view == \"24h\":\n",
    "        cutoff = now - timedelta(hours=24)\n",
    "        freq = \"1h\"\n",
    "    elif view == \"7d\":\n",
    "        cutoff = now - timedelta(days=7)\n",
    "        freq = \"4h\"\n",
    "    else:\n",
    "        cutoff = merged[\"timestamp\"].min()\n",
    "        freq = \"1H\"  # default bin size\n",
    "\n",
    "    merged = merged[merged[\"timestamp\"] >= cutoff]\n",
    "\n",
    "    # Bin by time\n",
    "    merged[\"time_bin\"] = merged[\"timestamp\"].dt.floor(freq)\n",
    "\n",
    "    # Aggregate volume\n",
    "    trend = merged.groupby(\"time_bin\")[\"volume\"].sum().reset_index()\n",
    "    trend[\"time_bin\"] = trend[\"time_bin\"].dt.strftime(\"%Y-%m-%d %H:%M\")\n",
    "    trend.rename(columns={\"time_bin\": \"timestamp\"}, inplace=True)\n",
    "\n",
    "    # Save to JSON\n",
    "    output_file = f\"out/volume_trend_{view}.json\"\n",
    "    trend.to_json(output_file, orient=\"records\")\n",
    "    print(f\"Wrote {output_file}\")\n",
    "\n",
    "generate_volume_trend(\"24h\")\n",
    "generate_volume_trend(\"7d\")"
   ],
   "id": "bd8ecc409215d0a8",
   "outputs": [
    {
     "name": "stdout",
     "output_type": "stream",
     "text": [
      "Wrote out/volume_trend_24h.json\n",
      "Wrote out/volume_trend_7d.json\n"
     ]
    }
   ],
   "execution_count": 5
  }
 ],
 "metadata": {
  "kernelspec": {
   "display_name": "Python 3",
   "language": "python",
   "name": "python3"
  },
  "language_info": {
   "codemirror_mode": {
    "name": "ipython",
    "version": 2
   },
   "file_extension": ".py",
   "mimetype": "text/x-python",
   "name": "python",
   "nbconvert_exporter": "python",
   "pygments_lexer": "ipython2",
   "version": "2.7.6"
  }
 },
 "nbformat": 4,
 "nbformat_minor": 5
}
